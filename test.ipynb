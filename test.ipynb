{
 "cells": [
  {
   "cell_type": "code",
   "execution_count": null,
   "metadata": {},
   "outputs": [],
   "source": [
    "sys_prompt_template = \"\"\"You are a helpful assistant that analyzes customer summaries to identify relevant topics.\n",
    "PROCESS:\n",
    "1. Read the provided customer summary carefully\n",
    "2. Select ONLY topics with higher relevance to the summary\n",
    "3. YOU MUST USE FUNCTION CALLING for each relevant topic\n",
    "4. DO NOT return free text lists - ONLY use the appropriate function tools\n",
    "\n",
    "For each relevant topic, call the corresponding function tool.\n",
    "\n",
    "EXAMPLES:\n",
    "    \n",
    "Summary 1:\n",
    "\"Customer is upset due to a 6-day delivery delay and a scratched phone. Support was unhelpful. They're requesting a refund or replacement. Human handover needed.\"\n",
    "\n",
    "Highly Relevant Topics:\n",
    "-  Delivery Problems   \n",
    "- Issue not solved\n",
    "- No compensation given\n",
    "\n",
    "Summary 2:\n",
    "\"Customer frustrated with support agent's lengthy response times during order inquiry. Responses took 10-25 minutes each, turning a simple shipping status check into a 2-hour conversation. Customer expressed increasing irritation with the delayed communication.\"\n",
    "\n",
    "Highly Relevant Topics:\n",
    "- Agent replied slowly\n",
    "\"\"\"\n",
    "\n",
    "user_prompt_template = \"\"\"Analyze the following summary and identify the topics being discussed: {user_message}\n",
    "\n",
    "Return ONLY the NAMES of topics with higher relevance to this summary using function calls.\"\"\""
   ]
  }
 ],
 "metadata": {
  "kernelspec": {
   "display_name": "Python 3",
   "language": "python",
   "name": "python3"
  },
  "language_info": {
   "codemirror_mode": {
    "name": "ipython",
    "version": 3
   },
   "file_extension": ".py",
   "mimetype": "text/x-python",
   "name": "python",
   "nbconvert_exporter": "python",
   "pygments_lexer": "ipython3",
   "version": "3.12.5"
  }
 },
 "nbformat": 4,
 "nbformat_minor": 2
}
